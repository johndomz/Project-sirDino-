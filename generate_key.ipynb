{
 "cells": [
  {
   "cell_type": "code",
   "execution_count": 1,
   "id": "fdcdeb02-8b2b-4698-a28f-c8cd00ce27c1",
   "metadata": {},
   "outputs": [],
   "source": [
    "# need to install cryptography library through pip install cryptography\n",
    "# Generate a symmetric key\n",
    "from cryptography.fernet import Fernet\n",
    "key = Fernet.generate_key()\n",
    "\n",
    "# save the key into a file which is named as secret.key\n",
    "with open('secret.key', 'wb') as file:\n",
    "    file.write(key)\n",
    "    "
   ]
  }
 ],
 "metadata": {
  "kernelspec": {
   "display_name": "Python 3 (ipykernel)",
   "language": "python",
   "name": "python3"
  },
  "language_info": {
   "codemirror_mode": {
    "name": "ipython",
    "version": 3
   },
   "file_extension": ".py",
   "mimetype": "text/x-python",
   "name": "python",
   "nbconvert_exporter": "python",
   "pygments_lexer": "ipython3",
   "version": "3.10.7"
  }
 },
 "nbformat": 4,
 "nbformat_minor": 5
}
