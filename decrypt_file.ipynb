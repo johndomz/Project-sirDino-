{
 "cells": [
  {
   "cell_type": "code",
   "execution_count": 1,
   "id": "cf3f773b-d015-4ebf-8940-df5b55762456",
   "metadata": {},
   "outputs": [
    {
     "name": "stdout",
     "output_type": "stream",
     "text": [
      "Encrypted data: gAAAAABkbCshnF6moFURbkpahw8LeefASyAK8PLMK6xpj91YzNKq2dNeTjXlmNG5FFi4BLJ3HOZEKkWM7soOtgwwagkB8bW6MglnnPaKy2OdcbVXcvu-B_c=\n",
      "\n",
      "Decrypted data: Hello sir Mathew!!\n"
     ]
    }
   ],
   "source": [
    "# read the key from the file\n",
    "key = ''\n",
    "with open('secret.key' , 'rb') as file:\n",
    "    key = file.read()\n",
    "    \n",
    "# read the encrypted data from file\n",
    "encrypted_data = ''\n",
    "with open('malupetnaSekreto.txt' , 'rb') as file:\n",
    "    encrypted_data = file.read()\n",
    "    \n",
    "# decrypt the data\n",
    "from cryptography.fernet import Fernet\n",
    "\n",
    "f = Fernet(key)\n",
    "\n",
    "decrypted_data = f.decrypt(encrypted_data)\n",
    "\n",
    "\n",
    "print('Encrypted data:' , encrypted_data.decode())\n",
    "print()\n",
    "print('Decrypted data:' , decrypted_data.decode())"
   ]
  }
 ],
 "metadata": {
  "kernelspec": {
   "display_name": "Python 3 (ipykernel)",
   "language": "python",
   "name": "python3"
  },
  "language_info": {
   "codemirror_mode": {
    "name": "ipython",
    "version": 3
   },
   "file_extension": ".py",
   "mimetype": "text/x-python",
   "name": "python",
   "nbconvert_exporter": "python",
   "pygments_lexer": "ipython3",
   "version": "3.10.7"
  }
 },
 "nbformat": 4,
 "nbformat_minor": 5
}
