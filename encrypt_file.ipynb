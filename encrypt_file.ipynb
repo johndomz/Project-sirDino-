{
 "cells": [
  {
   "cell_type": "code",
   "execution_count": 2,
   "id": "4dbed576-486b-41bc-beb6-c3826f70977a",
   "metadata": {},
   "outputs": [],
   "source": [
    "\n",
    "# read key from file\n",
    "key = ''\n",
    "with open('secret.key' , 'rb') as file:\n",
    "    key = file.read()\n",
    "    \n",
    "# read data from file\n",
    "data = ''\n",
    "with open('john.txt' , 'rb') as file:\n",
    "    data = file.read()\n",
    "    \n",
    "# Encrypt data\n",
    "from cryptography.fernet import Fernet\n",
    "f = Fernet(key)\n",
    "\n",
    "encrypted_data = f.encrypt(data)\n",
    "\n",
    "# save the encrypted data into a file\n",
    "\n",
    "with open('malupetnaSekreto.txt', 'wb') as file:\n",
    "    file.write(encrypted_data)\n"
   ]
  },
  {
   "cell_type": "code",
   "execution_count": 2,
   "id": "f18e43f5-d7b1-4d01-845b-ae968672f986",
   "metadata": {},
   "outputs": [
    {
     "data": {
      "text/plain": [
       "['austen-emma.txt',\n",
       " 'austen-persuasion.txt',\n",
       " 'austen-sense.txt',\n",
       " 'bible-kjv.txt',\n",
       " 'blake-poems.txt',\n",
       " 'bryant-stories.txt',\n",
       " 'burgess-busterbrown.txt',\n",
       " 'carroll-alice.txt',\n",
       " 'chesterton-ball.txt',\n",
       " 'chesterton-brown.txt',\n",
       " 'chesterton-thursday.txt',\n",
       " 'edgeworth-parents.txt',\n",
       " 'melville-moby_dick.txt',\n",
       " 'milton-paradise.txt',\n",
       " 'shakespeare-caesar.txt',\n",
       " 'shakespeare-hamlet.txt',\n",
       " 'shakespeare-macbeth.txt',\n",
       " 'whitman-leaves.txt']"
      ]
     },
     "execution_count": 2,
     "metadata": {},
     "output_type": "execute_result"
    }
   ],
   "source": [
    "# first i use .txt gutenberg files from nltk \n",
    "import nltk\n",
    "nltk.corpus.gutenberg.fileids()"
   ]
  },
  {
   "cell_type": "code",
   "execution_count": 7,
   "id": "3333e4d7-f54a-4a74-8d88-2d6a0a22dc8e",
   "metadata": {},
   "outputs": [
    {
     "name": "stderr",
     "output_type": "stream",
     "text": [
      "[nltk_data] Error loading gutenberg: <urlopen error [Errno 11001]\n",
      "[nltk_data]     getaddrinfo failed>\n"
     ]
    }
   ],
   "source": [
    "# next open one of the .txt file\n",
    "import nltk\n",
    "nltk.download('gutenberg')\n",
    "\n",
    "from nltk.corpus import gutenberg\n",
    "book = gutenberg.raw('whitman-leaves.txt')\n",
    "\n",
    "with open('white.txt', 'w', encoding='utf-8') as f:\n",
    "    f.write(book)\n",
    "    "
   ]
  }
 ],
 "metadata": {
  "kernelspec": {
   "display_name": "Python 3 (ipykernel)",
   "language": "python",
   "name": "python3"
  },
  "language_info": {
   "codemirror_mode": {
    "name": "ipython",
    "version": 3
   },
   "file_extension": ".py",
   "mimetype": "text/x-python",
   "name": "python",
   "nbconvert_exporter": "python",
   "pygments_lexer": "ipython3",
   "version": "3.10.7"
  }
 },
 "nbformat": 4,
 "nbformat_minor": 5
}
